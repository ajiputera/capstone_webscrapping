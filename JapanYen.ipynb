{
 "cells": [
  {
   "cell_type": "markdown",
   "metadata": {},
   "source": [
    "# Webscrapping using BeautifulSoup\n",
    "\n",
    "At this module we will learn on how do simple web scrapping using beautiful soup. Web scrapping is one of a method that we can use to colleting the data from internet. At this particular module, we will try to scrap JAPAN YEN exchange currency from https://monexnews.com/kurs-valuta-asing.htm. To do this we will only use a couple default library from python and BeautifulSoup. \n",
    "\n",
    "This module is made as easy and simple as possible which can be used for new developer to learn how to webscrapping using Beautiful Soup. But to do webscrapping you will need a bit of knowlage in `html` which I'll also try to help to explain what you needed at this module, but it is always better if you understand a bit what in `html` first. You can read it quickly at [beautifulsoup](https://www.crummy.com/software/BeautifulSoup/bs4/doc) documentation. It explain what is html and what beautiful soup exactly do at it landing page. \n",
    "\n",
    "## Dependencies\n",
    "\n",
    "Actually to follow this module you only need to install beautifulsoup4 with `pip install beautifulsoup4` and you are good to go. But here some libraries that needed to be installed first that I use at bis module : \n",
    "\n",
    "- beautifulSoup4\n",
    "- pandas\n",
    "- matplotlibs\n",
    "\n",
    "## What is BeautifulSoup\n",
    "\n",
    "Beautiful Soup is a Python library for pulling data out of HTML and XML files. Beautiful Soup 3 only works on Python 2.x, but Beautiful Soup 4 also works on Python 3.x. Beautiful Soup 4 is faster, has more features, and works with third-party parsers\n",
    "like lxml and html5lib.\n",
    "\n",
    "Since beautifulsoup used to pull the data out of a HTML, so first we need to pull out the html first. How we do it? We will use default library `request`. \n",
    "\n",
    "So all this code is doing is sending a GET request to spesific address we give. This is the same type of request your browser sent to view this page, but the only difference is that Requests can't actually render the HTML, so instead you will just get the raw HTML and the other response information.\n",
    "\n",
    "We're using the .get() function here, but Requests allows you to use other functions like .post() and .put() to send those requests as well. At this case we will going to the Monex News page, you can click [here](https://monexnews.com/kurs-valuta-asing.htm) to follow what exactly that link goes to. "
   ]
  },
  {
   "cell_type": "code",
   "execution_count": 25,
   "metadata": {},
   "outputs": [],
   "source": [
    "import requests\n",
    "\n",
    "url_get = requests.get('https://monexnews.com/kurs-valuta-asing.htm?kurs=JPY&searchdatefrom=01-01-2019&searchdateto=31-12-2019')\n"
   ]
  },
  {
   "cell_type": "markdown",
   "metadata": {},
   "source": [
    "To visualize what exactly you get from the `request.get`, we can use .content so ee what we exactly get, in here i slice it so it won't make our screen full of the html we get from the page. You can delete the slicing if you want to see what we fully get."
   ]
  },
  {
   "cell_type": "code",
   "execution_count": 26,
   "metadata": {},
   "outputs": [
    {
     "data": {
      "text/plain": [
       "b'!DOCTYPE html PUBLIC \"-//W3C//DTD XHTML 1.0 Transitional//EN\" \"http://www.w3.org/TR/xhtml1/DTD/xhtml1-transitional.dtd\">\\n<html xmlns=\"http://www.w3.org/1999/xhtml\">\\n<head>\\n<meta http-equiv=\"Content-Language\" content=\"en,in\" />\\n<link rel=\"alternate\" href=\"https://monexnews.com/kurs-valuta-asing.php\" hreflang=\"en-ID\" />\\n<base href=\"https://monexnews.com/\" target=\"_self\" />\\n<title>Kurs Yen Jepang | JPY | Harga Nilai Tukar Yen Hari Ini | Monexnews</title>\\n<meta name=\"description\" content=\"Kurs yen jepang JPY, nilai tukar rupiah terhadap harga yen hari ini berdasar kurs tengah BI, Bank Indonesia. \" />\\n<meta name=\"keywords\" content=\"Kurs yen, jpy, nilai tukar yen, monexnews\" />\\n<meta property=\"og:image\" content=\"favicon.jpg\" />\\n<meta name=\"author\" content=\"Ultimaengine.co'"
      ]
     },
     "execution_count": 26,
     "metadata": {},
     "output_type": "execute_result"
    }
   ],
   "source": [
    "url_get.content[1:777]"
   ]
  },
  {
   "cell_type": "markdown",
   "metadata": {},
   "source": [
    "As we can see we get a very unstructured and complex html, which actually contains the codes needed to show the webpages on your web browser. But we as human still confused what and where we can use that piece of code, so here where we use the beautifulsoup. Beautiful soup class will result a beautifulsoup object. Beautiful Soup transforms a complex HTML document into a complex tree of Python objects. But you’ll only ever have to deal with about four kinds of objects: `Tag`, `NavigableString`, `BeautifulSoup`, and `Comment`. But at this module we will only use `BeautifulSoup`."
   ]
  },
  {
   "cell_type": "code",
   "execution_count": 27,
   "metadata": {},
   "outputs": [
    {
     "name": "stdout",
     "output_type": "stream",
     "text": [
      "<class 'bs4.BeautifulSoup'>\n"
     ]
    }
   ],
   "source": [
    "from bs4 import BeautifulSoup \n",
    "\n",
    "soup = BeautifulSoup(url_get.content,\"html.parser\")\n",
    "print(type(soup))"
   ]
  },
  {
   "cell_type": "markdown",
   "metadata": {},
   "source": [
    "Let's see how our beautifulsoup looks like. As you can see, the content is the same with our `get_url` object but it's tidier. Also beautifulsoup give us method to make it even more prettier, for tidyness purpouse we slice to only see first 1045 character. "
   ]
  },
  {
   "cell_type": "code",
   "execution_count": 28,
   "metadata": {},
   "outputs": [
    {
     "name": "stdout",
     "output_type": "stream",
     "text": [
      "<!DOCTYPE html PUBLIC \"-//W3C//DTD XHTML 1.0 Transitional//EN\" \"http://www.w3.org/TR/xhtml1/DTD/xhtml1-transitional.dtd\">\n",
      "<html xmlns=\"http://www.w3.org/1999/xhtml\">\n",
      " <head>\n",
      "  <meta content=\"en,in\" http-equiv=\"Content-Language\"/>\n",
      "  <link href=\"https://monexnews.com/kurs-valuta-asing.php\" hreflang=\"en-ID\" rel=\"alternate\"/>\n",
      "  <base href=\"https://monexnews.com/\" target=\"_self\"/>\n",
      "  <title>\n",
      "   Kurs Yen Jepang | JPY | Harga Nilai Tukar Yen Hari Ini | Monexnews\n",
      "  </title>\n",
      "  <meta content=\"Kurs yen jepang JPY, nilai tukar rupiah terhadap harga yen hari ini berdasar kurs tengah BI, Bank Indonesia. \" name=\"description\"/>\n",
      "  <meta content=\"Kurs yen, jpy, nilai tukar yen, monexnews\" name=\"keywords\"/>\n",
      "  <meta content=\"favicon.jpg\" property=\"og:image\"/>\n",
      "  <meta content=\"Ultimaengine.com\" name=\"author\"/>\n",
      "  <meta content=\"follow, index\" name=\"robots\"/>\n",
      "  <meta content=\"7 days\" name=\"revisit-after\"/>\n",
      "  <meta content=\"width=device-width, initial-scale=1.0\" name=\"viewport\"/>\n",
      "  <meta content=\"M7NOlgqcEadhlLSiEssmvNI08vl1BowAztIyERgEgMQ\" name=\"google-\n"
     ]
    }
   ],
   "source": [
    "print(soup.prettify()[:1045])"
   ]
  },
  {
   "cell_type": "markdown",
   "metadata": {},
   "source": [
    "Now we already have a tidier html, now we should search the lines that we want to use. Let's back to our [Monex web page](https://github.com/Wawanp2020/WS1/blob/master/asset/Capture.pdf) first. \n",
    "\n",
    "The information that we need are the Date, Ask, Bid, which contain in the table. To know which part of the code refer to that table, we can just move our cusor there, right click, and inspect element. Then we will see something [like this](https://github.com/Wawanp2020/WS1/blob/master/asset/Capture1.pdf) \n",
    "\n",
    "From inspect element we know that we need to find the line table with class `table`. We can use the find method at our beautifusoup object. Let's also call our object to see what we get. "
   ]
  },
  {
   "cell_type": "code",
   "execution_count": 134,
   "metadata": {
    "scrolled": true
   },
   "outputs": [
    {
     "name": "stdout",
     "output_type": "stream",
     "text": [
      "table class=\"table\">\n",
      " <tr>\n",
      "  <td>\n",
      "   TANGGAL\n",
      "  </td>\n",
      "  <td>\n",
      "   ASK\n",
      "  </td>\n",
      "  <td>\n",
      "   BID\n",
      "  </td>\n",
      " </tr>\n",
      " <tr class=\"verySoftGreyBg\">\n",
      "  <td>\n",
      "   31 Desember 2019\n",
      "  </td>\n",
      "  <td>\n",
      "   128,62\n",
      "  </td>\n",
      "  <td>\n",
      "   127,32\n",
      "  </td>\n",
      " </tr>\n"
     ]
    }
   ],
   "source": [
    "table = soup.find('table', attrs={'class':'table'})\n",
    "print(table.prettify()[1:225])"
   ]
  },
  {
   "cell_type": "markdown",
   "metadata": {},
   "source": [
    "As we can see, we find a right lines with information we want. I'll explain a bit about the HTML codes you need to know : \n",
    "\n",
    "- `th` stand for table header/header cell\n",
    "- `tr` stand for table row\n",
    "- `td` stand for standard cell \n",
    "\n",
    "That's all term in HTML `table` that you need to know. Now we can pull it one by one, but we will use looping to make our job easier. But first let's make one object that will find all `tr` in `table` to help us in looping (so we can loop with the length of the table row)."
   ]
  },
  {
   "cell_type": "code",
   "execution_count": 30,
   "metadata": {
    "scrolled": true
   },
   "outputs": [
    {
     "data": {
      "text/plain": [
       "[<tr>\n",
       " <td>TANGGAL</td>\n",
       " <td>ASK</td>\n",
       " <td>BID</td>\n",
       " </tr>,\n",
       " <tr class=\"verySoftGreyBg\">\n",
       " <td>31 Desember 2019</td>\n",
       " <td>128,62</td>\n",
       " <td>127,32</td>\n",
       " </tr>]"
      ]
     },
     "execution_count": 30,
     "metadata": {},
     "output_type": "execute_result"
    }
   ],
   "source": [
    "tr = table.find_all('tr')\n",
    "tr[:2] # just call 2 founded tr"
   ]
  },
  {
   "cell_type": "markdown",
   "metadata": {},
   "source": [
    "Here what the looping do to scrap the information: \n",
    "\n",
    "- First we need to establish a placeholder to receive the information that we scrap. \n",
    "- We named it `temp` and it's a tuple. \n",
    "- Then we will make a loop from one until the the length of the table row, \n",
    "- which we will find all cell of the column one and two which contain period and the inflation rate. \n",
    "- Then we will append it to our tuple that we prepared before, \n",
    "- every one iteration we will scrap one line of the table.  "
   ]
  },
  {
   "cell_type": "code",
   "execution_count": 138,
   "metadata": {},
   "outputs": [
    {
     "data": {
      "text/plain": [
       "[('31-12-2019', '128.62', '127.32'),\n",
       " ('30-12-2019', '128.30', '127.02'),\n",
       " ('27-12-2019', '128.11', '126.83'),\n",
       " ('26-12-2019', '128.27', '126.98'),\n",
       " ('23-12-2019', '128.39', '127.10')]"
      ]
     },
     "execution_count": 138,
     "metadata": {},
     "output_type": "execute_result"
    }
   ],
   "source": [
    "temp = [] #initiating a tuple\n",
    "\n",
    "import re\n",
    "\n",
    "listm = ['Januari','Februari','Maret','April','Mei','Juni','Juli','Agustus','September','Oktober','November','Desember']\n",
    "listmn = ['1','2','3','4','5','6','7','8','9','10','11','12']\n",
    "\n",
    "for i in range(1, len(tr)):\n",
    "    row = table.find_all('tr')[i]\n",
    "    \n",
    "    #get exchange date\n",
    "    ExchangeDate = row.find_all('td')[0].text.replace('\\xa0','-')\n",
    "    ExchangeDate = ExchangeDate.strip() #for removing the excess whitespace\n",
    "    \n",
    "    for i in range(len(listm)):  \n",
    "        if re.search(listm[i],ExchangeDate):\n",
    "           ExchangeDate = re.sub(listm[i],listmn[i],ExchangeDate)\n",
    "           break\n",
    "    \n",
    "    #get exchange ask\n",
    "    ask = row.find_all('td')[1].text.replace(',','.')\n",
    "    ask = ask.strip() #for removing the excess whitespace\n",
    "    \n",
    "    #get exchange Bid\n",
    "    bid = row.find_all('td')[2].text.replace(',','.')\n",
    "    bid = bid.strip() #for removing the excess whitespace\n",
    "    \n",
    "    temp.append((ExchangeDate,ask,bid)) \n",
    "    \n",
    "temp[:5]"
   ]
  },
  {
   "cell_type": "markdown",
   "metadata": {},
   "source": [
    "That the result we get, At this point we can input it to a pandas' DataFrame and do usual data analysis, but if you notice the original webpage give us reversed information. To do a further analysis let's reverse our tuple we can use `::-1` to do that. "
   ]
  },
  {
   "cell_type": "code",
   "execution_count": 137,
   "metadata": {},
   "outputs": [
    {
     "data": {
      "text/plain": [
       "[('02-1-2019', '132.89', '131.54'),\n",
       " ('03-1-2019', '135.44', '134.08'),\n",
       " ('04-1-2019', '133.51', '132.17'),\n",
       " ('07-1-2019', '130.86', '129.51'),\n",
       " ('08-1-2019', '129.84', '128.52')]"
      ]
     },
     "execution_count": 137,
     "metadata": {},
     "output_type": "execute_result"
    }
   ],
   "source": [
    "temp = temp[::-1]\n",
    "temp[:5]"
   ]
  },
  {
   "cell_type": "markdown",
   "metadata": {},
   "source": [
    "Then after we fix our tuple a bit, as usual we will input it to pandas' dataframe."
   ]
  },
  {
   "cell_type": "code",
   "execution_count": 114,
   "metadata": {},
   "outputs": [
    {
     "data": {
      "text/html": [
       "<div>\n",
       "<style scoped>\n",
       "    .dataframe tbody tr th:only-of-type {\n",
       "        vertical-align: middle;\n",
       "    }\n",
       "\n",
       "    .dataframe tbody tr th {\n",
       "        vertical-align: top;\n",
       "    }\n",
       "\n",
       "    .dataframe thead th {\n",
       "        text-align: right;\n",
       "    }\n",
       "</style>\n",
       "<table border=\"1\" class=\"dataframe\">\n",
       "  <thead>\n",
       "    <tr style=\"text-align: right;\">\n",
       "      <th></th>\n",
       "      <th>tanggal</th>\n",
       "      <th>Kurs Jual</th>\n",
       "      <th>Kurs Beli</th>\n",
       "    </tr>\n",
       "  </thead>\n",
       "  <tbody>\n",
       "    <tr>\n",
       "      <th>0</th>\n",
       "      <td>02-1-2019</td>\n",
       "      <td>132.89</td>\n",
       "      <td>131.54</td>\n",
       "    </tr>\n",
       "    <tr>\n",
       "      <th>1</th>\n",
       "      <td>03-1-2019</td>\n",
       "      <td>135.44</td>\n",
       "      <td>134.08</td>\n",
       "    </tr>\n",
       "    <tr>\n",
       "      <th>2</th>\n",
       "      <td>04-1-2019</td>\n",
       "      <td>133.51</td>\n",
       "      <td>132.17</td>\n",
       "    </tr>\n",
       "    <tr>\n",
       "      <th>3</th>\n",
       "      <td>07-1-2019</td>\n",
       "      <td>130.86</td>\n",
       "      <td>129.51</td>\n",
       "    </tr>\n",
       "    <tr>\n",
       "      <th>4</th>\n",
       "      <td>08-1-2019</td>\n",
       "      <td>129.84</td>\n",
       "      <td>128.52</td>\n",
       "    </tr>\n",
       "  </tbody>\n",
       "</table>\n",
       "</div>"
      ],
      "text/plain": [
       "     tanggal Kurs Jual Kurs Beli\n",
       "0  02-1-2019    132.89    131.54\n",
       "1  03-1-2019    135.44    134.08\n",
       "2  04-1-2019    133.51    132.17\n",
       "3  07-1-2019    130.86    129.51\n",
       "4  08-1-2019    129.84    128.52"
      ]
     },
     "execution_count": 114,
     "metadata": {},
     "output_type": "execute_result"
    }
   ],
   "source": [
    "import pandas as pd\n",
    "\n",
    "#The column name changes : Tanggal = ExchangeDate,Kurs Jual = Asks, Kurs beli = Bid.\n",
    "df = pd.DataFrame(temp, columns = ('tanggal','Kurs Jual','Kurs Beli'))\n",
    "df.head()"
   ]
  },
  {
   "cell_type": "markdown",
   "metadata": {},
   "source": [
    "After this just usual stuff, we can clean the data or save it to csv let's do a bit cleaning so we can do a bit of visualisation. We will change the inflation to float datatype, but before we can do that we need to clean the \" %\" first. After the it on the right data type we can do simple visualisation using matplotlib."
   ]
  },
  {
   "cell_type": "code",
   "execution_count": 115,
   "metadata": {},
   "outputs": [
    {
     "data": {
      "text/plain": [
       "<matplotlib.axes._subplots.AxesSubplot at 0x153bd1bd088>"
      ]
     },
     "execution_count": 115,
     "metadata": {},
     "output_type": "execute_result"
    },
    {
     "data": {
      "image/png": "[encoded data removed]",
      "text/plain": [
       "<Figure size 432x288 with 1 Axes>"
      ]
     },
     "metadata": {
      "needs_background": "light"
     },
     "output_type": "display_data"
    }
   ],
   "source": [
    "df['Kurs Beli'] = df['Kurs Beli'].astype('float64')\n",
    "df['Kurs Jual'] = df['Kurs Jual'].astype('float64')\n",
    "\n",
    "df.plot()"
   ]
  },
  {
   "cell_type": "markdown",
   "metadata": {},
   "source": [
    "<b>Conclusion</b> : Kurs Jual (Ask) relatively higher than Kurs Beli (Bid). <br>\n",
    "\n",
    "And highest exchange rate happened on range index row between 141 to 159, <b>around August 2019</b>\n"
   ]
  },
  {
   "cell_type": "code",
   "execution_count": 126,
   "metadata": {},
   "outputs": [
    {
     "data": {
      "text/plain": [
       "156    136.20\n",
       "147    136.19\n",
       "142    135.85\n",
       "149    135.65\n",
       "158    135.51\n",
       "Name: Kurs Jual, dtype: float64"
      ]
     },
     "execution_count": 126,
     "metadata": {},
     "output_type": "execute_result"
    }
   ],
   "source": [
    "df['Kurs Jual'].sort_values(ascending=False).head()"
   ]
  },
  {
   "cell_type": "code",
   "execution_count": 127,
   "metadata": {},
   "outputs": [
    {
     "data": {
      "text/plain": [
       "156    134.81\n",
       "147    134.80\n",
       "142    134.48\n",
       "149    134.27\n",
       "158    134.15\n",
       "Name: Kurs Beli, dtype: float64"
      ]
     },
     "execution_count": 127,
     "metadata": {},
     "output_type": "execute_result"
    }
   ],
   "source": [
    "df['Kurs Beli'].sort_values(ascending=False).head()"
   ]
  },
  {
   "cell_type": "code",
   "execution_count": 131,
   "metadata": {},
   "outputs": [
    {
     "data": {
      "text/html": [
       "<div>\n",
       "<style scoped>\n",
       "    .dataframe tbody tr th:only-of-type {\n",
       "        vertical-align: middle;\n",
       "    }\n",
       "\n",
       "    .dataframe tbody tr th {\n",
       "        vertical-align: top;\n",
       "    }\n",
       "\n",
       "    .dataframe thead th {\n",
       "        text-align: right;\n",
       "    }\n",
       "</style>\n",
       "<table border=\"1\" class=\"dataframe\">\n",
       "  <thead>\n",
       "    <tr style=\"text-align: right;\">\n",
       "      <th></th>\n",
       "      <th>tanggal</th>\n",
       "      <th>Kurs Jual</th>\n",
       "      <th>Kurs Beli</th>\n",
       "    </tr>\n",
       "  </thead>\n",
       "  <tbody>\n",
       "    <tr>\n",
       "      <th>142</th>\n",
       "      <td>06-8-2019</td>\n",
       "      <td>135.85</td>\n",
       "      <td>134.48</td>\n",
       "    </tr>\n",
       "    <tr>\n",
       "      <th>143</th>\n",
       "      <td>07-8-2019</td>\n",
       "      <td>135.34</td>\n",
       "      <td>133.96</td>\n",
       "    </tr>\n",
       "    <tr>\n",
       "      <th>144</th>\n",
       "      <td>08-8-2019</td>\n",
       "      <td>134.67</td>\n",
       "      <td>133.30</td>\n",
       "    </tr>\n",
       "    <tr>\n",
       "      <th>145</th>\n",
       "      <td>09-8-2019</td>\n",
       "      <td>134.60</td>\n",
       "      <td>133.25</td>\n",
       "    </tr>\n",
       "    <tr>\n",
       "      <th>146</th>\n",
       "      <td>12-8-2019</td>\n",
       "      <td>135.50</td>\n",
       "      <td>134.14</td>\n",
       "    </tr>\n",
       "    <tr>\n",
       "      <th>147</th>\n",
       "      <td>13-8-2019</td>\n",
       "      <td>136.19</td>\n",
       "      <td>134.80</td>\n",
       "    </tr>\n",
       "    <tr>\n",
       "      <th>148</th>\n",
       "      <td>14-8-2019</td>\n",
       "      <td>134.60</td>\n",
       "      <td>133.24</td>\n",
       "    </tr>\n",
       "    <tr>\n",
       "      <th>149</th>\n",
       "      <td>15-8-2019</td>\n",
       "      <td>135.65</td>\n",
       "      <td>134.27</td>\n",
       "    </tr>\n",
       "    <tr>\n",
       "      <th>150</th>\n",
       "      <td>16-8-2019</td>\n",
       "      <td>134.86</td>\n",
       "      <td>133.51</td>\n",
       "    </tr>\n",
       "    <tr>\n",
       "      <th>151</th>\n",
       "      <td>19-8-2019</td>\n",
       "      <td>134.29</td>\n",
       "      <td>132.93</td>\n",
       "    </tr>\n",
       "    <tr>\n",
       "      <th>152</th>\n",
       "      <td>20-8-2019</td>\n",
       "      <td>134.48</td>\n",
       "      <td>133.14</td>\n",
       "    </tr>\n",
       "    <tr>\n",
       "      <th>153</th>\n",
       "      <td>21-8-2019</td>\n",
       "      <td>134.63</td>\n",
       "      <td>133.26</td>\n",
       "    </tr>\n",
       "    <tr>\n",
       "      <th>154</th>\n",
       "      <td>22-8-2019</td>\n",
       "      <td>134.38</td>\n",
       "      <td>133.01</td>\n",
       "    </tr>\n",
       "    <tr>\n",
       "      <th>155</th>\n",
       "      <td>23-8-2019</td>\n",
       "      <td>134.45</td>\n",
       "      <td>133.08</td>\n",
       "    </tr>\n",
       "    <tr>\n",
       "      <th>156</th>\n",
       "      <td>26-8-2019</td>\n",
       "      <td>136.20</td>\n",
       "      <td>134.81</td>\n",
       "    </tr>\n",
       "    <tr>\n",
       "      <th>157</th>\n",
       "      <td>27-8-2019</td>\n",
       "      <td>135.32</td>\n",
       "      <td>133.94</td>\n",
       "    </tr>\n",
       "    <tr>\n",
       "      <th>158</th>\n",
       "      <td>28-8-2019</td>\n",
       "      <td>135.51</td>\n",
       "      <td>134.15</td>\n",
       "    </tr>\n",
       "  </tbody>\n",
       "</table>\n",
       "</div>"
      ],
      "text/plain": [
       "       tanggal  Kurs Jual  Kurs Beli\n",
       "142  06-8-2019     135.85     134.48\n",
       "143  07-8-2019     135.34     133.96\n",
       "144  08-8-2019     134.67     133.30\n",
       "145  09-8-2019     134.60     133.25\n",
       "146  12-8-2019     135.50     134.14\n",
       "147  13-8-2019     136.19     134.80\n",
       "148  14-8-2019     134.60     133.24\n",
       "149  15-8-2019     135.65     134.27\n",
       "150  16-8-2019     134.86     133.51\n",
       "151  19-8-2019     134.29     132.93\n",
       "152  20-8-2019     134.48     133.14\n",
       "153  21-8-2019     134.63     133.26\n",
       "154  22-8-2019     134.38     133.01\n",
       "155  23-8-2019     134.45     133.08\n",
       "156  26-8-2019     136.20     134.81\n",
       "157  27-8-2019     135.32     133.94\n",
       "158  28-8-2019     135.51     134.15"
      ]
     },
     "execution_count": 131,
     "metadata": {},
     "output_type": "execute_result"
    }
   ],
   "source": [
    "df.iloc[142:159]"
   ]
  }
 ],
 "metadata": {
  "kernelspec": {
   "display_name": "capstoneWS",
   "language": "python",
   "name": "capstonews"
  },
  "language_info": {
   "codemirror_mode": {
    "name": "ipython",
    "version": 3
   },
   "file_extension": ".py",
   "mimetype": "text/x-python",
   "name": "python",
   "nbconvert_exporter": "python",
   "pygments_lexer": "ipython3",
   "version": "3.7.7"
  }
 },
 "nbformat": 4,
 "nbformat_minor": 2
}
